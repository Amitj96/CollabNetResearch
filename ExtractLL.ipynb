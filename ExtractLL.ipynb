{
 "cells": [
  {
   "cell_type": "code",
   "execution_count": 1,
   "metadata": {},
   "outputs": [],
   "source": [
    "import pandas as pd\n",
    "import numpy as np"
   ]
  },
  {
   "cell_type": "code",
   "execution_count": 7,
   "metadata": {},
   "outputs": [],
   "source": [
    "firstQ = pd.read_csv(\"C://Users//amitd//Desktop//FA//firstQ.csv\")\n",
    "thirdQ = pd.read_csv(\"C://Users//amitd//Desktop//FA//thirdQ.csv\")\n",
    "interQ = pd.read_csv(\"C://Users//amitd//Desktop//FA//interQ.csv\")\n",
    "listfq = firstQ['Author'].values.tolist()\n",
    "listtq = thirdQ['Author'].values.tolist()\n",
    "listiq = interQ['Author'].values.tolist()\n",
    "#print(len(listfq))\n",
    "#print(len(listtq))\n",
    "#print(len(listiq))\n"
   ]
  },
  {
   "cell_type": "code",
   "execution_count": 19,
   "metadata": {},
   "outputs": [],
   "source": [
    "def LL(listQ,name):    \n",
    "    for year in range(1997,2018):\n",
    "        linkedlist = \"C://Users//amitd//Desktop//FA//publication//publication//publication-linkedlist-\"+str(year)+\".csv\"\n",
    "        newdf = pd.DataFrame(columns=['Auth1', 'Auth2'])\n",
    "        df1 = pd.read_csv(linkedlist)\n",
    "        newname = name+str(year)+\".csv\"\n",
    "        for i in range(len(df1)):\n",
    "            if (df1.Auth1[i] or df1.Auth2[i]) in listQ:\n",
    "                newdf = newdf.append({'Auth1': df1.Auth1[i], 'Auth2': df1.Auth2[i]}, ignore_index=True)\n",
    "            else:\n",
    "                continue\n",
    "        newdf.to_csv(newname,index=False)\n",
    "        print(year)\n",
    "\n"
   ]
  },
  {
   "cell_type": "code",
   "execution_count": null,
   "metadata": {},
   "outputs": [],
   "source": [
    "LL(listfq,\"FirstQLL\")"
   ]
  },
  {
   "cell_type": "code",
   "execution_count": null,
   "metadata": {},
   "outputs": [],
   "source": [
    "LL(listiq,\"InterQLL\")"
   ]
  },
  {
   "cell_type": "code",
   "execution_count": null,
   "metadata": {},
   "outputs": [],
   "source": [
    "LL(listtq,\"ThirdQLL\")"
   ]
  }
 ],
 "metadata": {
  "kernelspec": {
   "display_name": "Python 3",
   "language": "python",
   "name": "python3"
  },
  "language_info": {
   "codemirror_mode": {
    "name": "ipython",
    "version": 3
   },
   "file_extension": ".py",
   "mimetype": "text/x-python",
   "name": "python",
   "nbconvert_exporter": "python",
   "pygments_lexer": "ipython3",
   "version": "3.7.3"
  }
 },
 "nbformat": 4,
 "nbformat_minor": 2
}
